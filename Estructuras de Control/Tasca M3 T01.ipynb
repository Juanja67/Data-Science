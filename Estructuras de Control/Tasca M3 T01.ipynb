{
 "cells": [
  {
   "cell_type": "markdown",
   "id": "26b2649d",
   "metadata": {},
   "source": [
    "# <font color='#d50283'>IT Academy - Ciència de Dades (online)</font>\n",
    "## Tasca M3 T01: \n",
    "### Exercicis de programació numèrica.\n",
    "### Juan Javier Hidalgo Gómez"
   ]
  },
  {
   "cell_type": "markdown",
   "id": "77cbb9d6",
   "metadata": {},
   "source": [
    "### <font color='#d50283'>- Exercici 1</font>\n",
    "*Crea una funció que donat un Array d’una dimensió, et faci un resum estadístic bàsic de les dades. Si detecta que l’array té més d’una dimensió, ha de mostrar un missatge d’error.*"
   ]
  },
  {
   "cell_type": "code",
   "execution_count": 171,
   "id": "9273c37f",
   "metadata": {},
   "outputs": [
    {
     "name": "stdout",
     "output_type": "stream",
     "text": [
      "Resultado:\n",
      " Número de dimensiones: 1\n",
      " Array:\n",
      "[ 4  5  5  8 10  8  1  8  1  2  2  2  5  7  5 10  2  8  9  6  5  6  4  6\n",
      "  4  4  7  1  2  9  8  3  4  9  8  6  2  0  4  7  8  9  0  2  3  2  8  8\n",
      "  5 10  1  9  1  2  7  1  6  4  7  9  8  8  0  3  5  4  2  3  9  3  4  0\n",
      "  8  2  2  3  9  2  8  8  9  1  2  7  2  3  2  2  5  1  3  4  0  4  1  5\n",
      "  8  8  1  6]\n",
      "\n",
      "Resumen estadístico:\n",
      " Media arítmetica:4.74\n",
      " Mediana:4.0\n",
      " Moda:[2] \n",
      " Desviación típica:2.944893886033926\n",
      " Varianza:8.6724 \n",
      " Correlacion:1.0\n",
      " Covarianza:8.760000000000002 \n",
      "\n",
      "Fin\n"
     ]
    }
   ],
   "source": [
    "import numpy as np\n",
    "\n",
    "# Defenir funciónes\n",
    " \n",
    "def lista(n):\n",
    "    #n=round(random.uniform(3,10))\n",
    "    lista = []\n",
    "    #n=3\n",
    "    for i in range(n):\n",
    "        lista.append(round(np.random.uniform(0,10)))\n",
    "    #lista.sort()\n",
    "    return lista\n",
    "\n",
    "def D1_matrix(N,elementos):\n",
    "    array= np.array(lista(elementos),ndmin=N)\n",
    "    return array\n",
    "\n",
    "\n",
    "#Cuerpo\n",
    "\n",
    "matrix=D1_matrix(1,100)\n",
    "\n",
    "if matrix.ndim != 1: \n",
    "    print(f'El Array generado es diferente a 1 dimensión, tiene {matrix.ndim} dimensiones\\n')\n",
    "else: \n",
    "    #calculo de la moda para numpy\n",
    "    vals, counts = np.unique(matrix, return_counts=True)\n",
    "    mode_value = vals[counts == np.max(counts)]\n",
    "    print(f'Resultado:\\n Número de dimensiones: {matrix.ndim}\\n Array:\\n{matrix}\\n')\n",
    "    print(f'Resumen estadístico:')\n",
    "    print(f' Media arítmetica:{np.mean(matrix)}\\n Mediana:{np.median(matrix)}\\n Moda:{mode_value} ')\n",
    "    print(f' Desviación típica:{np.std(matrix)}\\n Varianza:{np.var(matrix)} ')\n",
    "    print(f' Correlacion:{np.corrcoef(matrix)}\\n Covarianza:{np.cov(matrix)} ')   \n",
    "    \n",
    "print('\\nFin')\n",
    "\n"
   ]
  },
  {
   "cell_type": "markdown",
   "id": "6a007bcc",
   "metadata": {},
   "source": [
    "### <font color='#d50283'>- Exercici 2</font>\n",
    "*Crea una funció que et generi un quadrat NxN de nombres aleatoris entre el 0 i el 100.*"
   ]
  },
  {
   "cell_type": "code",
   "execution_count": 172,
   "id": "ff59afce",
   "metadata": {},
   "outputs": [
    {
     "name": "stdout",
     "output_type": "stream",
     "text": [
      "Resultado:\n",
      " Dimensión: 2\n",
      " Cuadrado de 10x10\n",
      " Números de 0 a 100\n",
      " Array:\n",
      "[[ 6 13 77 17 40 94 68 18  2 27]\n",
      " [ 8 79 51 87 47 63 30 13 92 46]\n",
      " [14 46 45 97  4 10 63 18 72 58]\n",
      " [73 13 12 29 78 77  9 46 60 76]\n",
      " [29 75 24 59 72 15 54 32 80 11]\n",
      " [15 25 21 22 81 92 91 72 91 92]\n",
      " [99 30 41  9 52 43 81 50 16 64]\n",
      " [26  7 54 82 58 75 57 58 76 13]\n",
      " [72 18 17 42 44 98 75 87 70 78]\n",
      " [46 54 50 43 65 78  6 47 44  9]]\n",
      "\n",
      "Fin\n"
     ]
    }
   ],
   "source": [
    "\n",
    "import numpy as np\n",
    "\n",
    "# Defenir funciónes\n",
    "def NxN_matrix(N,elementos):\n",
    "    array = np.random.randint(elementos, size=(N,N)) \n",
    "    return array\n",
    "\n",
    "\n",
    "#Cuerpo\n",
    "\n",
    "n=10\n",
    "elementos=100\n",
    "\n",
    "matrix=NxN_matrix(n,elementos)\n",
    "    \n",
    "    \n",
    "print(f'Resultado:\\n Dimensión: {matrix.ndim}\\n Cuadrado de {n}x{n}\\n Números de {0} a {elementos}\\n Array:\\n{matrix}')   \n",
    "print('\\nFin')\n"
   ]
  },
  {
   "cell_type": "markdown",
   "id": "ecf64fd1",
   "metadata": {},
   "source": [
    "### <font color='#d50283'>- Exercici 3</font>\n",
    "*Crea una funció que donada una taula de dues dimensions (NxM), et calculi els totals per fila i els totals per columna.*"
   ]
  },
  {
   "cell_type": "code",
   "execution_count": 184,
   "id": "cbe16786",
   "metadata": {},
   "outputs": [
    {
     "name": "stdout",
     "output_type": "stream",
     "text": [
      "Resultado:\n",
      " Dimensión: 2\n",
      " Dos dimensiones de 10x15\n",
      " Números de 0 a 100\n",
      " Array:\n",
      "[[33 77  1  3 39 62 62 27 58 98 47 25 80 73 25]\n",
      " [64 15 80  7 23 40 38 37 68 98 86 60 49 30 97]\n",
      " [91 71 77 89 37 31 49 47 53  8 18 84 25 39 93]\n",
      " [ 2 50 81 97  3 26 53 88 63 94 57 65 82 71 43]\n",
      " [69 58 40 19 34 85 88 94 65  0 88 47  4 64 36]\n",
      " [60 50 55 84 68  5 61 78 22 79 83 76 61 39 32]\n",
      " [57 30 84 20 58 69 74 88 75 21 70 65 52 13 79]\n",
      " [43 85 67 93  9 54 88 55 55 56 49 20 37 53 61]\n",
      " [83 40 67 37  3 84 38 94 33 89 41 22 66 57 27]\n",
      " [58 28 60 99 47 33 25 74 72 81 89  7 51 29 39]]\n",
      " \n",
      " Total de Filas:\n",
      " [710 792 812 875 791 853 855 825 781 792]\n",
      " Total de Columnas:\n",
      " [560 504 612 548 321 489 576 682 564 624 628 471 507 468 532]\n",
      "\n",
      "Fin\n"
     ]
    }
   ],
   "source": [
    "import numpy as np\n",
    "\n",
    "# Defenir funciónes\n",
    "def NxN_matrix(N,M,elementos):\n",
    "    array = np.random.randint(elementos, size=(N,M)) \n",
    "    return array\n",
    "\n",
    "\n",
    "#Cuerpo\n",
    "\n",
    "n=10\n",
    "m=15\n",
    "elementos=100\n",
    "\n",
    "matrix=NxN_matrix(n,m,elementos)\n",
    "    \n",
    "    \n",
    "print(f'Resultado:\\n Dimensión: {matrix.ndim}\\n Dos dimensiones de {n}x{m}\\n Números de {0} a {elementos}\\n Array:\\n{matrix}')   \n",
    "print(f' \\n Total de Filas:\\n {np.sum(matrix,axis=1)}\\n Total de Columnas:\\n {np.sum(matrix,axis=0)}')   \n",
    "print('\\nFin')"
   ]
  },
  {
   "cell_type": "markdown",
   "id": "eba51e6f",
   "metadata": {},
   "source": [
    "### <font color='#d50283'>- Exercici 4</font>\n",
    "*Implementa manualment una funció que calculi el coeficient de correlació. Informa-te*\\'*n sobre els seus usos i interpretació.*"
   ]
  },
  {
   "cell_type": "markdown",
   "id": "34925fb3",
   "metadata": {},
   "source": [
    " ## $r=\\frac{\\sum[(x_i-\\bar x)][(y_i-\\bar y)]}{\\sqrt{\\sum(x_i-\\bar x)^2*\\sum(y_i-\\bar y)^2}}$ \n",
    "    "
   ]
  },
  {
   "cell_type": "code",
   "execution_count": 7,
   "id": "63080b5a",
   "metadata": {},
   "outputs": [
    {
     "name": "stdout",
     "output_type": "stream",
     "text": [
      "Resultado:\n",
      " Dimensión: 2\n",
      " Dos dimensiones de 7x10\n",
      " Números de 0 a 10\n",
      " Array:\n",
      "[[0 0 9 5 3 5 4 9 7 9]\n",
      " [2 6 6 1 5 5 4 4 3 5]\n",
      " [3 5 7 2 1 7 0 6 6 1]\n",
      " [5 4 9 4 3 7 7 5 0 9]\n",
      " [9 8 7 5 5 2 6 6 4 8]\n",
      " [7 4 8 5 3 3 6 9 9 0]\n",
      " [9 4 0 9 1 0 2 0 9 6]]\n",
      "\n",
      "Resumen estadístico:\n",
      " Correlacion(cálculo manual):\n",
      " 0.153\n",
      " \n",
      " Correlacion(Método numpy):\n",
      " 0.153\n",
      " \n",
      "\n",
      "Fin\n"
     ]
    }
   ],
   "source": [
    "import numpy as np\n",
    "\n",
    "# Defenir funciónes\n",
    "def NxN_matrix(N,M,elementos):\n",
    "    array = np.random.randint(elementos, size=(N,M)) \n",
    "    return array\n",
    "\n",
    "def coef_correlacio(a,fx,fy):\n",
    "    #separamos las dos listas de nuestra matriz(Suponemos dos variables)\n",
    "    Varible_x=a[fx]\n",
    "    Varible_y=a[fy]\n",
    "\n",
    "    ##### Calculo del coeficiente de Correción\n",
    "    Xi= sum(Varible_x)\n",
    "    Yi= sum(Varible_y)\n",
    "    N=len(Varible_x)\n",
    "    \n",
    "    #print(Yi)\n",
    "    Datosx=[]\n",
    "    Totalx=0\n",
    "\n",
    "    for x in range(0,len(Varible_x)):\n",
    "        valor=Varible_x[x]*Varible_x[x]\n",
    "        Datosx.append(valor)\n",
    "        Totalx+=valor\n",
    "        #print(TotalA2)\n",
    "        \n",
    "    # Elevar datos iniciales al cuadrado y sumarlos    \n",
    "    Xi2 = sum(pow(Varible_x,2))\n",
    "    Yi2 = sum(pow(Varible_y,2))\n",
    "    #print(Yi2)\n",
    "    # Multiplicar los dos arrays\n",
    "    XiYi = sum(np.multiply(Varible_x,Varible_y))\n",
    "    #Calculamos la media\n",
    "    _X =Xi/N\n",
    "    _Y =Yi/N\n",
    "    #print(_Y )\n",
    "    \n",
    "    #Cálculo\n",
    "    Varianza_X= ((Xi2/N)-pow(_X,2))\n",
    "    #print(Varianza_X)\n",
    "    DesviacionT_X= np.sqrt(Varianza_X)\n",
    "    #print(DesviacionT_X)\n",
    "    Varianza_Y= ((Yi2/N)-pow(_Y,2))\n",
    "    #print(Varianza_Y)\n",
    "    DesviacionT_Y= np.sqrt(Varianza_Y)\n",
    "    #print(DesviacionT_Y)\n",
    "    #Calcular la CooVarianza\n",
    "    CooVarianza=(XiYi/N)-(np.multiply(_X,_Y))\n",
    "    #print(CooVarianza)\n",
    "\n",
    "    #Calcular Coeficiente de correlacion\n",
    "\n",
    "    r=CooVarianza/(DesviacionT_X*DesviacionT_Y)\n",
    "   \n",
    "    return r\n",
    "\n",
    "#Cuerpo\n",
    "\n",
    "n=7\n",
    "m=10\n",
    "elementos=10\n",
    "\n",
    "matrix=NxN_matrix(n,m,elementos)\n",
    "\n",
    "# Se a definido para comparar diferentes vectores\n",
    "Vector1=0\n",
    "Vector2=1\n",
    "resultado=coef_correlacio(matrix,Vector1,Vector2)\n",
    "   \n",
    "print(f'Resultado:\\n Dimensión: {matrix.ndim}\\n Dos dimensiones de {n}x{m}\\n Números de {0} a {elementos}\\n Array:\\n{matrix}')   \n",
    "print(f'\\nResumen estadístico:')\n",
    "print(f' Correlacion(cálculo manual):\\n {round(resultado,3)}\\n ')  \n",
    "print(f' Correlacion(Método numpy):\\n {round(np.corrcoef(matrix)[Vector1,Vector2],3)}\\n ')   \n",
    "   \n",
    "print('\\nFin')"
   ]
  },
  {
   "cell_type": "markdown",
   "id": "397d99ef",
   "metadata": {},
   "source": [
    "***Coeficiente de Correlación***\n",
    "\n",
    "Nos permite estudiar la relación entre dos variables continuas.  Valores positivos\n",
    "nos indican que cambian en la misma dirección (directamente proporcional) o valores\n",
    "negativos que indica que cambian en direcciones opuestas (inversamente proporcional).\n",
    "\n",
    "Su valor está comprendido en el rango [+1 , -1]. Siendo +1 una correlación positiva perfecta y -1 una correlación negativa perfecta.\n",
    "\n",
    "Se emplean como medida de la fuerza de asociación entre dos variables (tamaño del efecto):\n",
    "\n",
    "- 0: asociación nula.\n",
    "- 0.1: asociación pequeña.\n",
    "- 0.3: asociación mediana.\n",
    "- 0.5: asociación moderada.\n",
    "- 0.7: asociación alta.\n",
    "- 0.9: asociación muy alta.\n"
   ]
  },
  {
   "cell_type": "code",
   "execution_count": null,
   "id": "ee6484e9",
   "metadata": {},
   "outputs": [],
   "source": []
  }
 ],
 "metadata": {
  "kernelspec": {
   "display_name": "Python 3 (ipykernel)",
   "language": "python",
   "name": "python3"
  },
  "language_info": {
   "codemirror_mode": {
    "name": "ipython",
    "version": 3
   },
   "file_extension": ".py",
   "mimetype": "text/x-python",
   "name": "python",
   "nbconvert_exporter": "python",
   "pygments_lexer": "ipython3",
   "version": "3.9.12"
  }
 },
 "nbformat": 4,
 "nbformat_minor": 5
}
