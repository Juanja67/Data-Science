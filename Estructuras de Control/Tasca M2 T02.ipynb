{
 "cells": [
  {
   "cell_type": "markdown",
   "id": "4aaf5a5b",
   "metadata": {},
   "source": [
    "# <font color='#d50283'>IT Academy - Ciència de Dades (online)</font>\n",
    "## Tasca M2 T02:\n",
    "### Exercicis d'estructures de control amb Python.\n",
    "### Juan Javier Hidalgo Gómez"
   ]
  },
  {
   "cell_type": "markdown",
   "id": "c31fcaf2",
   "metadata": {},
   "source": [
    "### <font color='#d50283'>- Exercici 1</font>\n",
    "L'exercici consisteix a crear un programa que et classifiqui una variable numèrica en funció de l’escala Suspès/Aprovat/Notable/Excel·lent.\n",
    "\n",
    "Recorda que Suspès < 5, Aprovat > 5 i < 7, Notable > 7 i < 9 i Excel·lent > 9."
   ]
  },
  {
   "cell_type": "code",
   "execution_count": 100,
   "id": "cddf8bd0",
   "metadata": {},
   "outputs": [
    {
     "name": "stdout",
     "output_type": "stream",
     "text": [
      " La nota -1, Nota Incorrecta!\n",
      " La nota 0, Suspendido\n",
      " La nota 1, Suspendido\n",
      " La nota 2, Suspendido\n",
      " La nota 3, Suspendido\n",
      " La nota 4, Suspendido\n",
      " La nota 5, Aprobado\n",
      " La nota 6, Aprobado\n",
      " La nota 7, Notable\n",
      " La nota 8, Notable\n",
      " La nota 9, Excelente\n",
      " La nota 10, Excelente\n",
      " La nota 11, Nota Incorrecta!\n"
     ]
    }
   ],
   "source": [
    "# Defenir la función\n",
    "\n",
    "def resultato(nota):\n",
    "    if nota > 10 or nota < 0  :\n",
    "         return(\"Nota Incorrecta!\")\n",
    "    elif nota >=0 and nota < 5:\n",
    "         return(\"Suspendido\")\n",
    "    elif nota < 7:\n",
    "         return(\"Aprobado\")\n",
    "    elif nota < 9:\n",
    "         return(\"Notable\")\n",
    "    elif nota <= 10:\n",
    "         return(\"Excelente\")\n",
    "\n",
    "        \n",
    "\n",
    "#Opción manual\n",
    "#\n",
    "#print (\"Introduce un número entre 0 y 10 \")\n",
    "#while True:\n",
    "#    number = float(input(\"Introduce x un número: \"))\n",
    "#    resultato(number)\n",
    "#    if str(input(\"Quieres continuar Si/No: \"))==\"No\":break\n",
    "\n",
    "#print(\"Hasta Luego...\")\n",
    "\n",
    "# Realizamos segunda opción\n",
    "# Realizamos un recorrido del -1 al 11.\n",
    "\n",
    "for i in range(13):\n",
    "    print(f' La nota {i-1}, {resultato(i-1)}')\n",
    "\n",
    "\n",
    "\n",
    "\n"
   ]
  },
  {
   "cell_type": "markdown",
   "id": "4b27a55c",
   "metadata": {},
   "source": [
    "### <font color='#d50283'>- Exercici 2</font>\n",
    "Utilitzant el següent tutorial crea un programa que et pregunti dos números. T’ha de mostrar un missatge dient si el primer és més gran, el segon és més gran o són iguals.\n"
   ]
  },
  {
   "cell_type": "code",
   "execution_count": 9,
   "id": "e0bfb769",
   "metadata": {},
   "outputs": [
    {
     "name": "stdout",
     "output_type": "stream",
     "text": [
      "Primer número: 56\n",
      "Segundo número: 24\n",
      "Resultado es:\n",
      " 56 es mayor 24\n",
      "Quieres continuar Si/No: Si\n",
      "Primer número: 3\n",
      "Segundo número: 3\n",
      "Resultado es:\n",
      " 3 es igual a 3\n",
      "Quieres continuar Si/No: Si\n",
      "Primer número: 6\n",
      "Segundo número: 9\n",
      "Resultado es:\n",
      " 6 es menor 9\n",
      "Quieres continuar Si/No: No\n",
      "Hasta Luego...\n"
     ]
    }
   ],
   "source": [
    "#Definir Funciones\n",
    "def resultato(n1,n2):\n",
    "    if n1>n2 :\n",
    "         print(f\"Resultado es:\\n {n1} es mayor {n2}\")\n",
    "    elif n1<n2:\n",
    "         print(f\"Resultado es:\\n {n1} es menor {n2}\")\n",
    "    else :\n",
    "         print(f\"Resultado es:\\n {n1} es igual a {n2}\")\n",
    "#Cuerpo\n",
    "\n",
    "while True:\n",
    "    while True:\n",
    "        try:\n",
    "            x = int(input(\"Primer número: \"))\n",
    "            break\n",
    "        except ValueError:\n",
    "            print(\"Escribe un número  no un texto, please!\\n\")\n",
    "    \n",
    "    while True:\n",
    "        try:    \n",
    "            y = int(input(\"Segundo número: \"))\n",
    "            break\n",
    "        except ValueError:\n",
    "            print(\"Escribe un número  no un texto, please!\\n\")\n",
    "            \n",
    "    resultato(x,y)\n",
    "    if str(input(\"Quieres continuar Si/No: \"))==\"No\":break\n",
    "\n",
    "print(\"Hasta Luego...\")\n"
   ]
  },
  {
   "cell_type": "markdown",
   "id": "7b64c50e",
   "metadata": {},
   "source": [
    "### <font color='#d50283'>- Exercici 3</font>\n",
    "Crea un programa que et pregunti el teu nom, i et demani un número. Si el número és 0, hauria de mostrar un missatge d’error. En cas contrari, hauria de mostrar el nom repetit tants cops com indiqui el número. Per exemple, “Joan Joan Joan”. "
   ]
  },
  {
   "cell_type": "code",
   "execution_count": 1,
   "id": "da17858a",
   "metadata": {},
   "outputs": [
    {
     "name": "stdout",
     "output_type": "stream",
     "text": [
      "Cual es tú nombre Juanja\n",
      "Que número te gusta?  0\n",
      "Error 0 no es un número válido\n",
      "Que número te gusta?  4\n",
      "Juanja Juanja Juanja Juanja \n",
      "Quieres continuar Si/No: Si\n",
      "Cual es tú nombre Pepe\n",
      "Que número te gusta?  8\n",
      "Pepe Pepe Pepe Pepe Pepe Pepe Pepe Pepe \n",
      "Quieres continuar Si/No: No\n",
      "Hasta Luego...\n"
     ]
    }
   ],
   "source": [
    "#Funciones\n",
    "def resultato():\n",
    "    nombre = str(input(\"Cual es tú nombre \"))\n",
    "    numero =0\n",
    "    while numero==0:\n",
    "        numero = int(input(\"Que número te gusta?  \"))\n",
    "        if numero==0:print(\"Error,4 0 no es un número válido\")\n",
    "    \n",
    "    print((nombre+\" \")*numero)\n",
    "        \n",
    "#Cuerpo\n",
    "while True:\n",
    "    resultato()\n",
    "    if str(input(\"Quieres continuar Si/No: \"))==\"No\":break\n",
    "\n",
    "print(\"Hasta Luego...\")"
   ]
  },
  {
   "cell_type": "markdown",
   "id": "939f43da",
   "metadata": {},
   "source": [
    "### <font color='#d50283'>- Exercici 4</font>\n",
    "Crea un programa que donada una llista qualsevol, et digui si és simètrica o no. Si ho és, que et digui quants elements té."
   ]
  },
  {
   "cell_type": "code",
   "execution_count": 6,
   "id": "2f6f7ad1",
   "metadata": {},
   "outputs": [
    {
     "name": "stdout",
     "output_type": "stream",
     "text": [
      "La lista no es simétrica [2, 9, 9].\n",
      "La lista es simétrica [1, 2, 3, 2, 1] y tiene 5 elementos.\n"
     ]
    }
   ],
   "source": [
    "#Librerias\n",
    "\n",
    "import random\n",
    "\n",
    "def lista():\n",
    "    #n=round(random.uniform(3,10))\n",
    "    lista = []\n",
    "    n=3\n",
    "    for i in range(n):\n",
    "        \n",
    "        lista.append(round(random.uniform(1,10)))\n",
    "    return lista\n",
    "\n",
    "\n",
    "\n",
    "# 1 Método.\n",
    "def simétrico (lista):\n",
    "    rev=[]\n",
    "    rev=lista.copy()\n",
    "    rev.reverse() \n",
    "\n",
    "    if lista==rev:\n",
    "        return(f'es simétrica {lista} y tiene {len(lista)} elementos')\n",
    "    else:\n",
    "        return(f'no es simétrica {lista}')\n",
    "    \n",
    "    \n",
    "   \n",
    "    \n",
    "#Cuerpo\n",
    "milista=lista()\n",
    "# Crearla manual\n",
    "Lista_simétrica =[1,2,3,2,1]\n",
    "\n",
    "valor1=simétrico(milista)\n",
    "print (f'La lista {valor1}.')\n",
    "\n",
    "valor2=simétrico(Lista_simétrica)\n",
    "print (f'La lista {valor2}.')"
   ]
  },
  {
   "cell_type": "markdown",
   "id": "4423ebf7",
   "metadata": {},
   "source": [
    "### <font color='#d50283'>- Exercici 5</font>\n",
    "Crea un programa que donada una llista, et digui quants números coincideixen amb la seva posició. Per exemple [3,4,2,0,2,3,6] el 2 i el 6 coincideixen."
   ]
  },
  {
   "cell_type": "code",
   "execution_count": 4,
   "id": "ae31732c",
   "metadata": {},
   "outputs": [
    {
     "name": "stdout",
     "output_type": "stream",
     "text": [
      "De la cadena [10, 7, 5, 3, 5, 8, 5, 7, 2, 5],\n",
      "coinciden los siguientes elementos [3, 7], un total de 2.\n"
     ]
    }
   ],
   "source": [
    "#Librerias\n",
    "\n",
    "import random\n",
    "\n",
    "def lista():\n",
    "    #n=round(random.uniform(3,10))\n",
    "    lista = []\n",
    "    n=10\n",
    "    for i in range(n):\n",
    "        lista.append(round(random.uniform(1,10)))\n",
    "    return lista\n",
    "\n",
    "\n",
    "\n",
    "def buscar(lista):\n",
    "    coinciden=[]\n",
    "    for i in range(len(lista)):\n",
    "        if i ==lista[i]:\n",
    "            coinciden.append(i)\n",
    "            \n",
    "    return(coinciden)\n",
    "        \n",
    "        \n",
    "\n",
    "#Cuerpo\n",
    "milista=lista()\n",
    "#milista=[0,1,2,3]\n",
    "valor=buscar(milista)\n",
    "\n",
    "if len(valor)==0:\n",
    "    print (f'De la cadena {milista}, no coincide ninguno')\n",
    "else:\n",
    "    print(f'De la cadena {milista},\\ncoinciden los siguientes elementos {valor}, un total de {len(valor)}.')\n"
   ]
  },
  {
   "cell_type": "code",
   "execution_count": null,
   "id": "9abe45c8",
   "metadata": {},
   "outputs": [],
   "source": []
  }
 ],
 "metadata": {
  "kernelspec": {
   "display_name": "Python 3 (ipykernel)",
   "language": "python",
   "name": "python3"
  },
  "language_info": {
   "codemirror_mode": {
    "name": "ipython",
    "version": 3
   },
   "file_extension": ".py",
   "mimetype": "text/x-python",
   "name": "python",
   "nbconvert_exporter": "python",
   "pygments_lexer": "ipython3",
   "version": "3.9.12"
  }
 },
 "nbformat": 4,
 "nbformat_minor": 5
}
