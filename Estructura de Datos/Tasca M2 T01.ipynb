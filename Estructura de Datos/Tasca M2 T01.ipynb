{
 "cells": [
  {
   "cell_type": "markdown",
   "id": "e159f459",
   "metadata": {},
   "source": [
    "# <font color='#d50283'>IT Academy - Ciència de Dades (online)</font>\n",
    "## Tasca M2 T01: \n",
    "### Exercicis d'estructures de dades amb Python.\n",
    "### Juan Javier Hidalgo Gómez"
   ]
  },
  {
   "cell_type": "markdown",
   "id": "27d63e27",
   "metadata": {},
   "source": [
    "### <font color='#d50283'>- Exercici 1</font>\n",
    "*Crea una llista que agrupi els mesos de l’any en trimestres (1T: gener, febrer i març; 2T: abril, maig, juny...), és a dir, una llista amb 4 llistes dins.*"
   ]
  },
  {
   "cell_type": "code",
   "execution_count": 23,
   "id": "7c8fa614",
   "metadata": {},
   "outputs": [
    {
     "name": "stdout",
     "output_type": "stream",
     "text": [
      "Resultado: \n",
      "[['Enero', 'Febrero', 'Marzo'], ['Abril', 'Mayo', 'Junio'], ['Julio', 'Agosto', 'Septiembre'], ['Octubre', 'Noviembre', 'Diciembre']]\n"
     ]
    }
   ],
   "source": [
    "import numpy as np\n",
    "# Cuatro trimestres\n",
    "n=4\n",
    "T1=[\"Enero\",\"Febrero\",\"Marzo\"]\n",
    "T2=[\"Abril\",\"Mayo\",\"Junio\"]\n",
    "T3=[\"Julio\",\"Agosto\",\"Septiembre\"]\n",
    "T4=[\"Octubre\",\"Noviembre\",\"Diciembre\"]\n",
    "\n",
    "Trimestres=[T1,T2,T3,T4]\n",
    "\n",
    "    \n",
    "print(\"Resultado: \")\n",
    "print(Trimestres)"
   ]
  },
  {
   "cell_type": "markdown",
   "id": "aa7ae76a",
   "metadata": {},
   "source": [
    "### <font color='#d50283'>- Exercici 2</font>\n",
    "Crea un codi que et permeti accedir a:\n",
    "\n",
    "- El segon mes del primer trimestre.\n",
    "- Els mesos del primer trimestre.\n",
    "- Setembre i octubre.\n"
   ]
  },
  {
   "cell_type": "code",
   "execution_count": 26,
   "id": "2726ea01",
   "metadata": {},
   "outputs": [
    {
     "name": "stdout",
     "output_type": "stream",
     "text": [
      "Resultado: \n",
      "El segon mes del primer trimestre: Febrero\n",
      "Els mesos del primer trimestre: ['Enero', 'Febrero', 'Marzo']\n",
      "Setembre i octubre: ['Octubre', 'Noviembre']\n"
     ]
    }
   ],
   "source": [
    "print(\"Resultado: \")\n",
    "print (f\"El segon mes del primer trimestre: {Trimestres[0][-2]}\")\n",
    "print (f\"Els mesos del primer trimestre: {Trimestres[0][0:]}\")\n",
    "print (f\"Setembre i octubre: {Trimestres[3][0:2]}\")"
   ]
  },
  {
   "cell_type": "markdown",
   "id": "6107d6ab",
   "metadata": {},
   "source": [
    "### <font color='#d50283'>- Exercici 3</font>\n",
    "Crea una llista amb nombres desordenats i respon a les següents preguntes:\n",
    "\n",
    "- Quants números hi ha?\n",
    "- Quantes vegades apareix el número 3.\n",
    "- Quantes vegades apareixen els nombres 3 i 4?\n",
    "- Quin és el número més gran?\n",
    "- Quins són els 3 números més petits?\n",
    "- Quin és el rang d’aquesta llista?"
   ]
  },
  {
   "cell_type": "code",
   "execution_count": 47,
   "id": "c0538756",
   "metadata": {},
   "outputs": [],
   "source": [
    "#Podriamos utilizar la biblioteca \"random\" para definir la lista con valores\n",
    "# creamos una lista con elemtos del 1 al 10 y con un numero de digitos del 3 al 10\n",
    "\n",
    "import random\n",
    "\n",
    "def lista():\n",
    "    n=round(random.uniform(3,10))\n",
    "    lista = []\n",
    "\n",
    "    for i in range(n):\n",
    "        \n",
    "        lista.append(round(random.uniform(1,10)))\n",
    "    return lista\n",
    "\n",
    "milista=lista()\n",
    "\n",
    "\n",
    "# Crearla manual\n",
    "#milista =[1,32,2,4,4,3,7,8,9,0,10,25,78]"
   ]
  },
  {
   "cell_type": "code",
   "execution_count": 53,
   "id": "cd13608f",
   "metadata": {},
   "outputs": [
    {
     "name": "stdout",
     "output_type": "stream",
     "text": [
      "Resultado: \n",
      "Lista: [2, 2, 4, 5, 6, 7, 7]\n",
      "Quants números hi ha? 7\n",
      "Quantes vegades apareix el número 3? \n",
      " El número 3 aparece 0 veces.\n",
      "Quantes vegades apareixen els nombres 3 i 4? \n",
      " El número 3 aparece 0 veces y el 4 aparece 1 veces, en total 1 veces.\n",
      "Quin és el número més gran? 7\n",
      "Quins són els 3 números més petits? [2, 2, 4]\n",
      "Quin és el rang d’aquesta llista? 5\n"
     ]
    }
   ],
   "source": [
    "\n",
    "\n",
    "print(\"Resultado: \")\n",
    "print(f\"Lista: {milista}\")\n",
    "Longitud=len(milista)\n",
    "print(f\"Quants números hi ha? {Longitud}\")\n",
    "\n",
    "#Hay varias maneras de calcular la siguiente opción\n",
    "# milista.count(3)\n",
    "\n",
    "Ap_3=Longitud - len([x for x in milista if x !=3])\n",
    "print(f\"Quantes vegades apareix el número 3? \")\n",
    "print(f\" El número 3 aparece {Ap_3} veces.\")\n",
    "# milista.count(4)\n",
    "Ap_4=Longitud - len([x for x in milista if x !=4])\n",
    "print(f\"Quantes vegades apareixen els nombres 3 i 4? \")\n",
    "print(f\" El número 3 aparece {milista.count(3)} veces y el 4 aparece {milista.count(4)} veces, en total {milista.count(3)+milista.count(4)} veces.\")\n",
    "print(f\"Quin és el número més gran? {max(milista)}\")\n",
    "\n",
    "#Varias formas de llegar a este resultado\n",
    "# 1.primera\n",
    "#milista.sort()\n",
    "#n1,n2,n3,*otros=milista\n",
    "#print(f\"Quins són els 3 números més petits? {n1},{n2},{n3}\")\n",
    "\n",
    "# 2.primera\n",
    "#minimos=[]\n",
    "#Puente = milista.copy() ## utilizamos copy para que no se vea afecada \"milista\"\n",
    "#if len(Puente)>=3:\n",
    "#    n=3\n",
    "#else:\n",
    "#   n=len(Puente)\n",
    "#for i in range(n):\n",
    "#    minimos.append(min(Puente))\n",
    "#    Puente.remove(min(Puente))\n",
    "#print(f\"Quins són els 3 números més petits? {minimos[0]}, {minimos[1]} y {minimos[2]}\")\n",
    "\n",
    "milista.sort()\n",
    "print(f\"Quins són els 3 números més petits? {milista[0:3]}\")\n",
    "\n",
    "\n",
    "print(f\"Quin és el rang d’aquesta llista? {max(milista)-min(milista)}\")\n"
   ]
  },
  {
   "cell_type": "markdown",
   "id": "f4fe77ab",
   "metadata": {},
   "source": [
    "### <font color='#d50283'>- Exercici 4</font>\n",
    "Crea un diccionari de la següent forma i respon a les preguntes:\n",
    "\n",
    "compra = { \"Pomes\" : {\"Qty\": 5, \"€\": 0.42}, \"Peres\" : {\"Qty\": 3, \"€\": 0.66} }\n",
    "\n",
    "- Afegeix alguna fruita més\n",
    "- Quant han costat les peres en total?\n",
    "- Quantes fruites hem comprat en total?\n",
    "- Quina és la fruita més cara?"
   ]
  },
  {
   "cell_type": "code",
   "execution_count": 52,
   "id": "e2b9394e",
   "metadata": {},
   "outputs": [
    {
     "name": "stdout",
     "output_type": "stream",
     "text": [
      "Resultado: \n",
      "Afegeix alguna fruita més: \n",
      " {'Pomes': {'Qty': 5, '€': 0.42}, 'Peres': {'Qty': 3, '€': 0.66}, 'Cerezas': {'Qty': 15, '€': 1.45}, 'Naranjas': {'Qty': 6, '€': 0.95}}\n",
      "Quant han costat les peres en total?  1.98 €\n",
      "Quantes fruites hem comprat en total?  29 Piezas\n",
      "Quina és la fruita més cara?  Cerezas , Precio: 1.45 €\n"
     ]
    }
   ],
   "source": [
    "compra = { \"Pomes\" : {\"Qty\": 5, \"€\": 0.42}, \"Peres\" : {\"Qty\": 3, \"€\": 0.66} }\n",
    "print (\"Resultado: \")\n",
    "#Añadimos Cerezas y Naranjas\n",
    "compra[\"Cerezas\"]= {\"Qty\": 15, \"€\": 1.45}\n",
    "\n",
    "#Me he equivocado a escribir naranjas, jugamos con la instrucción\n",
    "#eliminar una coleccion del diccionario\n",
    "compra.update({\"Naramjas\": {\"Qty\": 6, \"€\": 0.95}})\n",
    "compra.pop(\"Naramjas\")\n",
    "\n",
    "compra.update({\"Naranjas\": {\"Qty\": 6, \"€\": 0.95}})\n",
    "\n",
    "print (\"Afegeix alguna fruita més:\",'\\n' ,compra)\n",
    "\n",
    "#Otra forma:\n",
    "#Peras= compra.get(\"Peres\")\n",
    "#Precio=Peras.get(\"Qty\")*Peras.get(\"€\")\n",
    "\n",
    "Precio = compra[\"Peres\"][\"Qty\"]*compra[\"Peres\"][\"€\"]\n",
    "print (\"Quant han costat les peres en total? \",Precio,\"€\")\n",
    "Total_Qty=0\n",
    "for key in compra:\n",
    "    Total_Qty= Total_Qty+compra[key][\"Qty\"]\n",
    "    \n",
    "print (\"Quantes fruites hem comprat en total? \",Total_Qty,\"Piezas\")\n",
    "max_precio = 0\n",
    "for Key, producto in compra.items():\n",
    "  if producto[\"€\"] > max_precio:\n",
    "    max_precio = producto[\"€\"]\n",
    "    fruta = Key\n",
    "    \n",
    "print (\"Quina és la fruita més cara? \", fruta,\", Precio:\",max_precio ,\"€\")"
   ]
  },
  {
   "cell_type": "code",
   "execution_count": null,
   "id": "8a08fbff",
   "metadata": {},
   "outputs": [],
   "source": []
  }
 ],
 "metadata": {
  "kernelspec": {
   "display_name": "Python 3 (ipykernel)",
   "language": "python",
   "name": "python3"
  },
  "language_info": {
   "codemirror_mode": {
    "name": "ipython",
    "version": 3
   },
   "file_extension": ".py",
   "mimetype": "text/x-python",
   "name": "python",
   "nbconvert_exporter": "python",
   "pygments_lexer": "ipython3",
   "version": "3.9.12"
  }
 },
 "nbformat": 4,
 "nbformat_minor": 5
}
